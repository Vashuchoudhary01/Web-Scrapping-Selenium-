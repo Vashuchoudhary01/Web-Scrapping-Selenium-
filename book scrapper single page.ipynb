{
 "cells": [
  {
   "cell_type": "code",
   "execution_count": 230,
   "id": "3ffd0405-d4f9-44f1-b898-32b4275399a0",
   "metadata": {},
   "outputs": [],
   "source": [
    "import pandas as pd\n",
    "from bs4 import BeautifulSoup\n",
    "import requests as rq\n",
    "from tqdm import tqdm"
   ]
  },
  {
   "cell_type": "code",
   "execution_count": 6,
   "id": "190faf3e-01fe-4de1-aff2-56a0677c56cc",
   "metadata": {},
   "outputs": [],
   "source": [
    "link = rq.get(\"https://books.toscrape.com/catalogue/page-1.html\")"
   ]
  },
  {
   "cell_type": "code",
   "execution_count": 20,
   "id": "572ea3d0-e4e1-4c27-a942-3ea7ff61d729",
   "metadata": {},
   "outputs": [],
   "source": [
    "soup = BeautifulSoup(link.text, \"html.parser\")"
   ]
  },
  {
   "cell_type": "code",
   "execution_count": 260,
   "id": "abb7a0e8-dcaa-407d-808b-49d03878afdc",
   "metadata": {},
   "outputs": [
    {
     "name": "stderr",
     "output_type": "stream",
     "text": [
      "100%|██████████| 49/49 [05:20<00:00,  6.54s/it]\n"
     ]
    }
   ],
   "source": [
    "# now i will for all tthe pages in the book\n",
    "data = []\n",
    "for page in tqdm(range(1,51)):\n",
    "    link = \"https://books.toscrape.com/catalogue/page-\"+str(page)+ \".html\"                                                    \n",
    "    res = rq.get(link)\n",
    "    soup = BeautifulSoup(res.text, \"html.parser\")\n",
    "    # for sp in soup.find_all(\"ol\" class_ = \"row\"):\n",
    "    for sp in soup.find_all(\"li\", class_ = \"col-xs-6 col-sm-4 col-md-3 col-lg-3\"):\n",
    "        book_link = \"https://books.toscrape.com/catalogue/\" + sp.find_all(\"a\")[-1].get(\"href\")\n",
    "    \n",
    "        title = sp.find_all(\"a\")[-1].get(\"title\")\n",
    "    \n",
    "        images_links = \"https://books.toscrape.com/\" + sp.find(\"img\").get(\"src\")[3:]\n",
    "\n",
    "        rating = sp.find(\"p\").get(\"class\")[-1]\n",
    "\n",
    "        price = sp.find(\"p\", class_=\"price_color\").text[1:]\n",
    "\n",
    "        available = sp.find(\"p\",class_ = \"instock availability\").text.strip()\n",
    "\n",
    "        data.append([title, book_link, images_links, available, price, rating])\n",
    "        "
   ]
  },
  {
   "cell_type": "code",
   "execution_count": 273,
   "id": "f42989a8-6112-42c0-9500-e67bf409349d",
   "metadata": {},
   "outputs": [],
   "source": [
    "df = pd.DataFrame(data, columns = [\"title\", \"book_link\", \"image_links\", \"stock\",\"price\", \"rating\"])\n"
   ]
  },
  {
   "cell_type": "code",
   "execution_count": 275,
   "id": "a408a92f-4a69-4e84-8282-d4e65b042d4b",
   "metadata": {},
   "outputs": [],
   "source": [
    "df.to_csv(\"BookScrapping.csv\", index = False)"
   ]
  },
  {
   "cell_type": "code",
   "execution_count": null,
   "id": "8b65b6df-2ef2-4f4a-8bdf-2795a63fe360",
   "metadata": {},
   "outputs": [],
   "source": []
  }
 ],
 "metadata": {
  "kernelspec": {
   "display_name": "Python 3 (ipykernel)",
   "language": "python",
   "name": "python3"
  },
  "language_info": {
   "codemirror_mode": {
    "name": "ipython",
    "version": 3
   },
   "file_extension": ".py",
   "mimetype": "text/x-python",
   "name": "python",
   "nbconvert_exporter": "python",
   "pygments_lexer": "ipython3",
   "version": "3.12.4"
  }
 },
 "nbformat": 4,
 "nbformat_minor": 5
}
